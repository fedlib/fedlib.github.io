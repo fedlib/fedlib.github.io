{
  "cells": [
    {
      "cell_type": "markdown",
      "metadata": {},
      "source": [
        "\n# Comparing Buitd-in Aggregation Schemes\nThis example demonstrates the comparison of eight built-in aggregation schemes.\nWe draw 100 samples from two normal distributions with different mean and co-variance.\nThe samples are then aggregated using the built-in aggregation rules.\n"
      ]
    },
    {
      "cell_type": "code",
      "execution_count": null,
      "metadata": {
        "collapsed": false
      },
      "outputs": [],
      "source": [
        "import matplotlib.pyplot as plt\nimport numpy as np\nimport torch\n\nfrom blades.aggregators import (\n    Clippedclustering,\n    DnC,\n    GeoMed,\n    Mean,\n    Median,\n    Multikrum,\n    Trimmedmean,\n)\n\nplt.rcParams[\"axes.linewidth\"] = 1.5  # set the value globally\nplt.rcParams[\"font.weight\"] = \"bold\"\nplt.rcParams[\"font.size\"] = 16\nplt.rcParams[\"axes.labelweight\"] = \"bold\"\n\nnp.random.seed(1)\nsz = 40\nsample_sz = 80\n\nmean = np.array((0, 0))\ncov = [[20, 0], [0, 20]]\nbenign = np.random.multivariate_normal(mean, cov, 60)\nmean = np.array((30, 30))\ncov = [[60, 0], [0, 60]]\noutliers = np.concatenate([np.random.multivariate_normal(mean, cov, 40)])\nall_data = np.concatenate([benign, outliers])\n\nall_data_tensor = torch.Tensor(np.concatenate([benign, outliers]))\n\nall_data_tensor = [tensor for tensor in all_data_tensor]\n\naggs = [\n    Mean(),\n    Multikrum(len(outliers), 10),\n    GeoMed(),\n    Median(),\n    DnC(num_byzantine=len(outliers)),\n    Trimmedmean(num_byzantine=len(outliers)),\n    Clippedclustering(),\n]\n\n# sphinx_gallery_thumbnail_number = 1\nfig, axs = plt.subplots(figsize=(8, 8))\n\nax = axs\nax.scatter(\n    benign[:, 0],\n    benign[:, 1],\n    s=sample_sz,\n    alpha=0.6,\n    color=\"r\",\n    linewidths=0.2,\n    edgecolors=\"black\",\n)\nax.scatter(\n    outliers[:, 0],\n    outliers[:, 1],\n    s=sample_sz,\n    color=[0.0, 0.7, 0.0, 1.0],\n    linewidths=0.2,\n    edgecolors=\"black\",\n)\n\n\ndef plot_agg(ax, agg):\n    target = agg(all_data_tensor).cpu().detach().numpy()\n    ax.scatter(\n        target[0],\n        target[1],\n        s=sz * 3,\n        label=type(agg).__name__,\n        linewidths=0.3,\n        edgecolors=\"black\",\n    )\n\n\nlist(map(lambda agg: plot_agg(ax, agg), aggs))\nax.set_xticks([])\nax.set_yticks([])\nax.legend()\n\nfig.tight_layout(pad=0.0, w_pad=0.6, h_pad=0.5)\nplt.show()"
      ]
    },
    {
      "cell_type": "markdown",
      "metadata": {},
      "source": [
        "In this example, the results of Mean deviated away by the\noutliers. All the other are inside the range of benign data.\n\n"
      ]
    }
  ],
  "metadata": {
    "kernelspec": {
      "display_name": "Python 3",
      "language": "python",
      "name": "python3"
    },
    "language_info": {
      "codemirror_mode": {
        "name": "ipython",
        "version": 3
      },
      "file_extension": ".py",
      "mimetype": "text/x-python",
      "name": "python",
      "nbconvert_exporter": "python",
      "pygments_lexer": "ipython3",
      "version": "3.10.14"
    }
  },
  "nbformat": 4,
  "nbformat_minor": 0
}