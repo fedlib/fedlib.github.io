{
  "cells": [
    {
      "cell_type": "markdown",
      "metadata": {},
      "source": [
        "\n# Customize Attack\n"
      ]
    },
    {
      "cell_type": "code",
      "execution_count": null,
      "metadata": {
        "collapsed": false
      },
      "outputs": [],
      "source": [
        "import ray\nfrom ray import tune\nfrom ray.tune.stopper import MaximumIterationStopper\n\nfrom blades.algorithms.fedavg import FedavgConfig, Fedavg\nfrom fedlib.trainers import TrainerConfig\n\n\nfrom fedlib.trainers import Trainer\nfrom fedlib.clients import ClientCallback\nfrom blades.adversaries import Adversary\n\n\nclass LabelFlipAdversary(Adversary):\n    def on_trainer_init(self, trainer: Trainer):\n        class LabelFlipCallback(ClientCallback):\n            def on_train_batch_begin(self, data, target):\n                return data, 10 - 1 - target\n\n        for client in self.clients:\n            client.to_malicious(callbacks_cls=LabelFlipCallback, local_training=True)\n\n\nclass ExampleFedavgConfig(FedavgConfig):\n    def __init__(self, algo_class=None):\n        \"\"\"Initializes a FedavgConfig instance.\"\"\"\n        super().__init__(algo_class=algo_class or ExampleFedavg)\n\n        self.dataset_config = {\n            \"type\": \"FashionMNIST\",\n            \"num_clients\": 10,\n            \"train_batch_size\": 32,\n        }\n        self.global_model = \"cnn\"\n        self.num_malicious_clients = 1\n        self.adversary_config = {\"type\": LabelFlipAdversary}\n\n\nclass ExampleFedavg(Fedavg):\n    @classmethod\n    def get_default_config(cls) -> TrainerConfig:\n        return ExampleFedavgConfig()\n\n\nif __name__ == \"__main__\":\n    ray.init()\n\n    config_dict = (\n        ExampleFedavgConfig()\n        .resources(\n            num_gpus_for_driver=0.0,\n            num_cpus_for_driver=1,\n            num_remote_workers=0,\n            num_gpus_per_worker=0.0,\n        )\n        .to_dict()\n    )\n    print(config_dict)\n    tune.run(\n        ExampleFedavg,\n        config=config_dict,\n        stop=MaximumIterationStopper(100),\n    )"
      ]
    }
  ],
  "metadata": {
    "kernelspec": {
      "display_name": "Python 3",
      "language": "python",
      "name": "python3"
    },
    "language_info": {
      "codemirror_mode": {
        "name": "ipython",
        "version": 3
      },
      "file_extension": ".py",
      "mimetype": "text/x-python",
      "name": "python",
      "nbconvert_exporter": "python",
      "pygments_lexer": "ipython3",
      "version": "3.10.14"
    }
  },
  "nbformat": 4,
  "nbformat_minor": 0
}